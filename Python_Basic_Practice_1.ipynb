{
  "nbformat": 4,
  "nbformat_minor": 0,
  "metadata": {
    "colab": {
      "provenance": [],
      "authorship_tag": "ABX9TyNGXyQxUIOjuIymd68f61hJ",
      "include_colab_link": true
    },
    "kernelspec": {
      "name": "python3",
      "display_name": "Python 3"
    },
    "language_info": {
      "name": "python"
    }
  },
  "cells": [
    {
      "cell_type": "markdown",
      "metadata": {
        "id": "view-in-github",
        "colab_type": "text"
      },
      "source": [
        "<a href=\"https://colab.research.google.com/github/DhirajBembade/Practice-Python-Program/blob/main/Python_Basic_Practice_1.ipynb\" target=\"_parent\"><img src=\"https://colab.research.google.com/assets/colab-badge.svg\" alt=\"Open In Colab\"/></a>"
      ]
    },
    {
      "cell_type": "markdown",
      "source": [
        "#**Basic Program 1-50** :\n",
        "\n",
        "---\n",
        "\n",
        "\n"
      ],
      "metadata": {
        "id": "wd-xkqOLUyMP"
      }
    },
    {
      "cell_type": "code",
      "execution_count": null,
      "metadata": {
        "colab": {
          "base_uri": "https://localhost:8080/"
        },
        "id": "77PVKCjTI9O8",
        "outputId": "9baff00f-7bed-4bd2-eba6-504ab6b51d86"
      },
      "outputs": [
        {
          "output_type": "stream",
          "name": "stdout",
          "text": [
            "Twinkle, twinkle, little star, \n",
            "\tHow I wonder what you are! \n",
            "\t\tUp above the world so high, \n",
            "\t\tLike a diamond in the sky. \n",
            "Twinkle, twinkle, little star, \n",
            "\tHow I wonder what you are!\n"
          ]
        }
      ],
      "source": [
        "print(\"Twinkle, twinkle, little star, \\n\\tHow I wonder what you are! \\n\\t\\tUp above the world so high, \\n\\t\\tLike a diamond in the sky. \\nTwinkle, twinkle, little star, \\n\\tHow I wonder what you are!\")\n",
        "\n"
      ]
    },
    {
      "cell_type": "code",
      "source": [
        "# Python version code\n",
        "\n",
        "import sys\n",
        "print(\"Python version\")\n",
        "print (sys.version)\n",
        "print(\"Version info.\")\n",
        "print (sys.version_info)"
      ],
      "metadata": {
        "colab": {
          "base_uri": "https://localhost:8080/"
        },
        "id": "hqtTG8r_Lb7b",
        "outputId": "d201516c-bede-40d2-e362-699ce0065b6a"
      },
      "execution_count": null,
      "outputs": [
        {
          "output_type": "stream",
          "name": "stdout",
          "text": [
            "Python version\n",
            "3.8.16 (default, Dec  7 2022, 01:12:13) \n",
            "[GCC 7.5.0]\n",
            "Version info.\n",
            "sys.version_info(major=3, minor=8, micro=16, releaselevel='final', serial=0)\n"
          ]
        }
      ]
    },
    {
      "cell_type": "code",
      "source": [
        "import platform\n",
        "print(platform.python_version())"
      ],
      "metadata": {
        "colab": {
          "base_uri": "https://localhost:8080/"
        },
        "id": "LusZdSPkLvy7",
        "outputId": "b8217ceb-175b-4f86-c21b-1ed1b997cc1a"
      },
      "execution_count": null,
      "outputs": [
        {
          "output_type": "stream",
          "name": "stdout",
          "text": [
            "3.8.16\n"
          ]
        }
      ]
    },
    {
      "cell_type": "code",
      "source": [
        "#Write a Python program to display the current date and time.\n",
        "import datetime\n",
        "now = datetime.datetime.now()\n",
        "print (\"Current date and time : \")\n",
        "print (now.strftime(\"%Y-%m-%d %H:%M:%S\"))"
      ],
      "metadata": {
        "colab": {
          "base_uri": "https://localhost:8080/"
        },
        "id": "x63rnnR4LxmY",
        "outputId": "5bcc5c17-651c-4d66-9545-ce7e5a11af72"
      },
      "execution_count": null,
      "outputs": [
        {
          "output_type": "stream",
          "name": "stdout",
          "text": [
            "Current date and time : \n",
            "2022-12-22 18:58:17\n"
          ]
        }
      ]
    },
    {
      "cell_type": "code",
      "source": [
        "# Area Of circle\n",
        "from math import pi\n",
        "r = float(input (\"Input the radius of the circle : \"))\n",
        "print (\"The area of the circle with radius \" + str(r) + \" is: \" + str(pi * r**2))\n"
      ],
      "metadata": {
        "colab": {
          "base_uri": "https://localhost:8080/"
        },
        "id": "Fu2U50dFN3LE",
        "outputId": "8fadc2f0-8a77-474b-ff74-02eb2f201d7d"
      },
      "execution_count": null,
      "outputs": [
        {
          "output_type": "stream",
          "name": "stdout",
          "text": [
            "Input the radius of the circle : 5\n",
            "The area of the circle with radius 5.0 is: 78.53981633974483\n"
          ]
        }
      ]
    },
    {
      "cell_type": "code",
      "source": [
        "import math \n",
        "def area(r):\n",
        "    area=math.pi*pow(r,2)\n",
        "    return print(\"Area of circle is:\",area)\n",
        "area (5)"
      ],
      "metadata": {
        "colab": {
          "base_uri": "https://localhost:8080/"
        },
        "id": "BNS_F9o6OF6z",
        "outputId": "56aa6fd1-e592-47ef-86af-bb93282bc0a1"
      },
      "execution_count": null,
      "outputs": [
        {
          "output_type": "stream",
          "name": "stdout",
          "text": [
            "Area of circle is: 78.53981633974483\n"
          ]
        }
      ]
    },
    {
      "cell_type": "code",
      "source": [
        "#Python: Print first and last name in reverse order with a space between them\n",
        "fname = input(\"Input your First Name : \")\n",
        "lname = input(\"Input your Last Name : \")\n",
        "print (\"Hello \" + lname + \" \" + fname)\n"
      ],
      "metadata": {
        "colab": {
          "base_uri": "https://localhost:8080/"
        },
        "id": "LZNhuLTBPsEj",
        "outputId": "bb57a507-70c6-4f30-ba38-da730e622915"
      },
      "execution_count": null,
      "outputs": [
        {
          "output_type": "stream",
          "name": "stdout",
          "text": [
            "Input your First Name : Good Morning\n",
            "Input your Last Name : World !\n",
            "Hello World ! Good Morning\n"
          ]
        }
      ]
    },
    {
      "cell_type": "code",
      "source": [
        "#\n",
        "color_list = [\"Red\",\"Green\",\"White\" ,\"Black\" , \"Yellow\"]\n",
        "print( \"%s %s\"%(color_list[0],color_list[-1]))"
      ],
      "metadata": {
        "colab": {
          "base_uri": "https://localhost:8080/"
        },
        "id": "jumbmYUgT7Wh",
        "outputId": "fef2a4fd-d7e0-44d0-d914-8f8c7edb62ff"
      },
      "execution_count": null,
      "outputs": [
        {
          "output_type": "stream",
          "name": "stdout",
          "text": [
            "Red Yellow\n"
          ]
        }
      ]
    },
    {
      "cell_type": "code",
      "source": [
        "num=set([1,1,2,2,2,3,3,3,4])\n",
        "print(len(num))"
      ],
      "metadata": {
        "colab": {
          "base_uri": "https://localhost:8080/"
        },
        "id": "yEwnddt-3cAX",
        "outputId": "f458138e-4b70-4208-c27d-161d3d4f4a3a"
      },
      "execution_count": null,
      "outputs": [
        {
          "output_type": "stream",
          "name": "stdout",
          "text": [
            "4\n"
          ]
        }
      ]
    },
    {
      "cell_type": "code",
      "source": [
        "l={1:\"x\",2:\"y\",3:\"z\"}\n",
        "for i,j in l.items():\n",
        "  print(i,j,end=\"\")"
      ],
      "metadata": {
        "colab": {
          "base_uri": "https://localhost:8080/"
        },
        "id": "RHRHd65x4WJN",
        "outputId": "1359fcb9-26a1-442c-a36e-1ef87cf70622"
      },
      "execution_count": null,
      "outputs": [
        {
          "output_type": "stream",
          "name": "stdout",
          "text": [
            "1 x2 y3 z"
          ]
        }
      ]
    },
    {
      "cell_type": "code",
      "source": [
        "# program to swap first\n",
        "# and last element of a list\n",
        "\n",
        "# Swap function\n",
        "def swapList(newList):\n",
        "\t\n",
        "\tnewList[0], newList[-1] = newList[-1], newList[0]\n",
        "\n",
        "\treturn newList\n",
        "\t\n",
        "# Driver code\n",
        "newList = [12, 35, 9, 56, 24]\n",
        "print(swapList(newList))\n"
      ],
      "metadata": {
        "colab": {
          "base_uri": "https://localhost:8080/"
        },
        "id": "chS3262z6knl",
        "outputId": "8642da38-ba27-404b-eabd-6bd9dcc28555"
      },
      "execution_count": null,
      "outputs": [
        {
          "output_type": "stream",
          "name": "stdout",
          "text": [
            "[24, 35, 9, 56, 12]\n"
          ]
        }
      ]
    },
    {
      "cell_type": "code",
      "source": [
        "#program to swap two elements\n",
        "# at given positions\n",
        "\n",
        "# Driver function\n",
        "List = [23, 65, 19, 90]\n",
        "pos1, pos2 = 1, 3\n",
        "\n",
        "# Swap function\n",
        "def swapPositions(list, pos1, pos2):\n",
        "\t\n",
        "\tlist[pos1], list[pos2] = list[pos2], list[pos1]\n",
        "\treturn list\n",
        "print(swapPositions(List, pos1-1, pos2-1))\n"
      ],
      "metadata": {
        "colab": {
          "base_uri": "https://localhost:8080/"
        },
        "id": "BxF3vnMf6tjM",
        "outputId": "34f8bd72-5c97-4c2b-94b7-05f57500bc12"
      },
      "execution_count": null,
      "outputs": [
        {
          "output_type": "stream",
          "name": "stdout",
          "text": [
            "[19, 65, 23, 90]\n"
          ]
        }
      ]
    },
    {
      "cell_type": "code",
      "source": [
        "# code to demonstrate\n",
        "# Swap elements in String list\n",
        "# using replace() + list comprehension\n",
        "\n",
        "# Initializing list\n",
        "test_list = ['All', 'the', 'best', 'to', 'all']\n",
        "\n",
        "# printing original lists\n",
        "print(\"The original list is : \" + str(test_list))\n",
        "\n",
        "# Swap elements in String list\n",
        "# using replace() + list comprehension\n",
        "res = [sub.replace('t', 'A').replace('o', 'l').replace('t', 'z') for sub in test_list]\n",
        "\n",
        "# printing result\n",
        "print (\"List after performing character swaps : \" + str(res))\n"
      ],
      "metadata": {
        "colab": {
          "base_uri": "https://localhost:8080/"
        },
        "id": "QKzhKvYe7tF-",
        "outputId": "bd5450c1-5727-45c4-bc37-f41d282d6829"
      },
      "execution_count": null,
      "outputs": [
        {
          "output_type": "stream",
          "name": "stdout",
          "text": [
            "The original list is : ['All', 'the', 'best', 'to', 'all']\n",
            "List after performing character swaps : ['All', 'Ahe', 'besA', 'Al', 'all']\n"
          ]
        }
      ]
    },
    {
      "cell_type": "code",
      "source": [
        "# Python program to demonstrate working\n",
        "# of len()\n",
        "n = len([10, 20, 30])\n",
        "print(\"The length of list is: \", n)\n"
      ],
      "metadata": {
        "colab": {
          "base_uri": "https://localhost:8080/"
        },
        "id": "Q8kJgVkF8kMC",
        "outputId": "4c0c6d10-b996-41a4-ac97-4da25dc5d290"
      },
      "execution_count": null,
      "outputs": [
        {
          "output_type": "stream",
          "name": "stdout",
          "text": [
            "The length of list is:  3\n"
          ]
        }
      ]
    },
    {
      "cell_type": "code",
      "source": [
        "# Python program to find the\n",
        "# maximum of two numbers\n",
        "\n",
        "\n",
        "def maximum(a, b):\n",
        "\t\n",
        "\tif a >= b:\n",
        "\t\treturn a\n",
        "\telse:\n",
        "\t\treturn b\n",
        "\t\n",
        "# Driver code\n",
        "a = 2\n",
        "b = 4\n",
        "print(maximum(a, b))\n"
      ],
      "metadata": {
        "colab": {
          "base_uri": "https://localhost:8080/"
        },
        "id": "0vkhYoFN88_I",
        "outputId": "d5d9a039-f570-4508-bff6-12c5d3361343"
      },
      "execution_count": null,
      "outputs": [
        {
          "output_type": "stream",
          "name": "stdout",
          "text": [
            "4\n"
          ]
        }
      ]
    },
    {
      "cell_type": "code",
      "source": [
        "# Python program to find the\n",
        "# minimum of two numbers\n",
        "\n",
        "a = 2\n",
        "b = 4\n",
        "minimum = min(a, b)\n",
        "print(minimum)"
      ],
      "metadata": {
        "colab": {
          "base_uri": "https://localhost:8080/"
        },
        "id": "kuV67TV99HdU",
        "outputId": "2f1e0182-00ef-438d-a2ee-b8ecfca1f9fd"
      },
      "execution_count": null,
      "outputs": [
        {
          "output_type": "stream",
          "name": "stdout",
          "text": [
            "2\n"
          ]
        }
      ]
    },
    {
      "cell_type": "code",
      "source": [
        "# Initializing list\n",
        "test_list = [1, 6, 3, 5, 3, 4]\n",
        "\n",
        "# Checking if 4 exists in list\n",
        "for i in test_list:\n",
        "\tif(i == 4):\n",
        "\t\tprint(\"Element Exists\")\n"
      ],
      "metadata": {
        "colab": {
          "base_uri": "https://localhost:8080/"
        },
        "id": "jRLDVRyH9gHF",
        "outputId": "939423aa-a98e-40b0-d405-c7e173cb0a54"
      },
      "execution_count": null,
      "outputs": [
        {
          "output_type": "stream",
          "name": "stdout",
          "text": [
            "Element Exists\n"
          ]
        }
      ]
    },
    {
      "cell_type": "code",
      "source": [
        "#Write a Python program to accept a filename from the user and print the extension of that.\n",
        "filename = input(\"Input the Filename: \")\n",
        "f_extns = filename.split(\".\")\n",
        "print (\"The extension of the file is : \" + repr(f_extns[-1]))\n"
      ],
      "metadata": {
        "colab": {
          "base_uri": "https://localhost:8080/"
        },
        "id": "tJHBIhouD4_I",
        "outputId": "a0172fb8-d4ee-4fc6-dea4-655531181e14"
      },
      "execution_count": null,
      "outputs": [
        {
          "output_type": "stream",
          "name": "stdout",
          "text": [
            "Input the Filename: abc.java\n",
            "The extension of the file is : 'java'\n"
          ]
        }
      ]
    },
    {
      "cell_type": "code",
      "source": [
        "#Write a Python program to display the first and last colors from the following list.\n",
        "\n",
        "color_list = [\"Red\",\"Green\",\"White\" ,\"Black\"]\n",
        "print(color_list[0])\n",
        "print(color_list[-1])\n",
        "print(color_list[1],color_list[-2])\n",
        "color_list[:-1]\n"
      ],
      "metadata": {
        "colab": {
          "base_uri": "https://localhost:8080/"
        },
        "id": "SHrPgOQOLEtc",
        "outputId": "adabe713-d6ab-4930-dcb1-6f8e358e652c"
      },
      "execution_count": null,
      "outputs": [
        {
          "output_type": "stream",
          "name": "stdout",
          "text": [
            "Red\n",
            "Black\n",
            "Green White\n"
          ]
        },
        {
          "output_type": "execute_result",
          "data": {
            "text/plain": [
              "['Red', 'Green', 'White']"
            ]
          },
          "metadata": {},
          "execution_count": 49
        }
      ]
    },
    {
      "cell_type": "code",
      "source": [
        "color_list[::-1] # Reverse list"
      ],
      "metadata": {
        "colab": {
          "base_uri": "https://localhost:8080/"
        },
        "id": "FrQcB3JPPO7w",
        "outputId": "32d04d14-4131-4678-a606-5baf005bd069"
      },
      "execution_count": null,
      "outputs": [
        {
          "output_type": "execute_result",
          "data": {
            "text/plain": [
              "['Black', 'White', 'Green', 'Red']"
            ]
          },
          "metadata": {},
          "execution_count": 39
        }
      ]
    },
    {
      "cell_type": "code",
      "source": [
        "#Write a Python program to display the examination schedule. (extract the date from exam_st_date).\n",
        "\n",
        "exam_st_date = (11,12,2014)\n",
        "print( \"The examination will start from : %i / %i / %i\"%exam_st_date)\n",
        "print( \"The examination will start from :\",exam_st_date)"
      ],
      "metadata": {
        "colab": {
          "base_uri": "https://localhost:8080/"
        },
        "id": "5BYj0V6nPXe1",
        "outputId": "0c39f757-2358-4f04-b474-1fc1e1939bbc"
      },
      "execution_count": null,
      "outputs": [
        {
          "output_type": "stream",
          "name": "stdout",
          "text": [
            "The examination will start from : 11 / 12 / 2014\n",
            "The examination will start from : (11, 12, 2014)\n"
          ]
        }
      ]
    },
    {
      "cell_type": "code",
      "source": [
        "#Write a Python program that accepts an integer (n) and computes the value of n+nn+nnn.\n",
        "#Sample value of n is 5\n",
        "\n",
        "a = int(input(\"Input an integer : \"))\n",
        "n1 = int( \"%s\" % a )\n",
        "n2 = int( \"%s%s\" % (a,a) )\n",
        "n3 = int( \"%s%s%s\" % (a,a,a) )\n",
        "print (n1+n2+n3)  # 5+55+555"
      ],
      "metadata": {
        "colab": {
          "base_uri": "https://localhost:8080/"
        },
        "id": "Vybyg_stRJJi",
        "outputId": "dd53bf6d-5312-4c4b-c77a-32944757238d"
      },
      "execution_count": null,
      "outputs": [
        {
          "output_type": "stream",
          "name": "stdout",
          "text": [
            "Input an integer : 5\n",
            "615\n"
          ]
        }
      ]
    },
    {
      "cell_type": "code",
      "source": [
        "#Write a Python program to print the documents (syntax, description etc.) of Python built-in function(s).\n",
        "#Sample function : abs()\n",
        "print(abs.__doc__)"
      ],
      "metadata": {
        "colab": {
          "base_uri": "https://localhost:8080/"
        },
        "id": "mPl5HFa0Soxq",
        "outputId": "f7525342-4f74-4f36-83cb-13133655209d"
      },
      "execution_count": null,
      "outputs": [
        {
          "output_type": "stream",
          "name": "stdout",
          "text": [
            "Return the absolute value of the argument.\n"
          ]
        }
      ]
    },
    {
      "cell_type": "code",
      "source": [
        "#Write a Python program to print the calendar of a given month and year.\n",
        "#Note: Use 'calendar' module.\n",
        "\n",
        "import calendar\n",
        "year = int(input(\"Input the year : \"))\n",
        "month = int(input(\"Input the month : \"))\n",
        "print(calendar.month(year, month))"
      ],
      "metadata": {
        "colab": {
          "base_uri": "https://localhost:8080/"
        },
        "id": "AzoYWGsbTcTv",
        "outputId": "67db847d-2d75-4543-f90c-df752fcb08a7"
      },
      "execution_count": null,
      "outputs": [
        {
          "output_type": "stream",
          "name": "stdout",
          "text": [
            "Input the year : 2023\n",
            "Input the month : 02\n",
            "   February 2023\n",
            "Mo Tu We Th Fr Sa Su\n",
            "       1  2  3  4  5\n",
            " 6  7  8  9 10 11 12\n",
            "13 14 15 16 17 18 19\n",
            "20 21 22 23 24 25 26\n",
            "27 28\n",
            "\n"
          ]
        }
      ]
    },
    {
      "cell_type": "code",
      "source": [
        "#Write a Python program to print the following 'here document'\n",
        "print(\"\"\"\n",
        "a string that you \"don't\" have to escape\n",
        "This\n",
        "is a  ....... multi-line\n",
        "heredoc string --------> example\n",
        "\"\"\")\n"
      ],
      "metadata": {
        "colab": {
          "base_uri": "https://localhost:8080/"
        },
        "id": "i2-9beXET9d4",
        "outputId": "8fefdac6-794b-4842-980a-70c127003dfe"
      },
      "execution_count": null,
      "outputs": [
        {
          "output_type": "stream",
          "name": "stdout",
          "text": [
            "\n",
            "a string that you \"don't\" have to escape\n",
            "This\n",
            "is a  ....... multi-line\n",
            "heredoc string --------> example\n",
            "\n"
          ]
        }
      ]
    },
    {
      "cell_type": "code",
      "source": [
        "#Write a Python program to calculate number of days between two dates.\n",
        "\n",
        "from datetime import date\n",
        "f_date = date(2023, 7, 2)\n",
        "l_date = date(2023, 12, 11)\n",
        "delta = l_date - f_date\n",
        "print(delta.days)\n"
      ],
      "metadata": {
        "id": "7xY3QXesUe04",
        "colab": {
          "base_uri": "https://localhost:8080/"
        },
        "outputId": "45144427-eb92-4da1-dfe3-cab1827dd3a1"
      },
      "execution_count": 5,
      "outputs": [
        {
          "output_type": "stream",
          "name": "stdout",
          "text": [
            "162\n"
          ]
        }
      ]
    },
    {
      "cell_type": "code",
      "source": [
        "#Write a Python program to get the volume of a sphere with radius 6.\n",
        "#The volume of the sphere is : V = 4/3 × π × r3 \n",
        "pi = 3.1415926535897931\n",
        "r= 6.0\n",
        "V= 4.0/3.0*pi* r**3\n",
        "print('The volume of the sphere is: ',V)\n"
      ],
      "metadata": {
        "colab": {
          "base_uri": "https://localhost:8080/"
        },
        "id": "f0njKZc_AJdS",
        "outputId": "8b9107e0-05af-4752-b011-15ddc5107d22"
      },
      "execution_count": 6,
      "outputs": [
        {
          "output_type": "stream",
          "name": "stdout",
          "text": [
            "The volume of the sphere is:  904.7786842338603\n"
          ]
        }
      ]
    }
  ]
}