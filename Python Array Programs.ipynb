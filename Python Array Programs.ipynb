{
  "nbformat": 4,
  "nbformat_minor": 0,
  "metadata": {
    "colab": {
      "provenance": [],
      "authorship_tag": "ABX9TyO0bWS8Avkosq4283Bdqsyc",
      "include_colab_link": true
    },
    "kernelspec": {
      "name": "python3",
      "display_name": "Python 3"
    },
    "language_info": {
      "name": "python"
    }
  },
  "cells": [
    {
      "cell_type": "markdown",
      "metadata": {
        "id": "view-in-github",
        "colab_type": "text"
      },
      "source": [
        "<a href=\"https://colab.research.google.com/github/DhirajBembade/Practice-Python-Program/blob/main/Python%20Array%20Programs.ipynb\" target=\"_parent\"><img src=\"https://colab.research.google.com/assets/colab-badge.svg\" alt=\"Open In Colab\"/></a>"
      ]
    },
    {
      "cell_type": "markdown",
      "source": [
        "# Python Program to find sum of array-\n",
        "\n",
        "Given an array of integers, \n",
        "\n",
        "find the sum of its elements.\n",
        "\n",
        "Examples:\n",
        "\n",
        "Input : arr[] = {1, 2, 3}\n",
        "Output : 6\n",
        "1 + 2 + 3 = 6\n",
        "\n",
        "Input : arr[] = {15, 12, 13, 10}\n",
        "Output : 50\n",
        "\n",
        "Method 1: Iterating through the array and adding each element to the sum variable and finally displaying the sum."
      ],
      "metadata": {
        "id": "00E_-k5fq9Ua"
      }
    },
    {
      "cell_type": "code",
      "execution_count": 6,
      "metadata": {
        "colab": {
          "base_uri": "https://localhost:8080/"
        },
        "id": "Pc9VVaxXqxet",
        "outputId": "26e28b6d-f34b-4131-c234-86972339548c"
      },
      "outputs": [
        {
          "output_type": "stream",
          "name": "stdout",
          "text": [
            "Sum of the array is  34\n"
          ]
        }
      ],
      "source": [
        "def _sum(arr):\n",
        " \n",
        "    # initialize a variable\n",
        "    # to store the sum\n",
        "    # while iterating through\n",
        "    # the array later\n",
        "    sum = 0\n",
        " \n",
        "    # iterate through the array\n",
        "    # and add each element to the sum variable\n",
        "    # one at a time\n",
        "    for i in arr:\n",
        "        sum = sum + i\n",
        " \n",
        "    return(sum)\n",
        " \n",
        " \n",
        "# driver function\n",
        "arr = []\n",
        "# input values to list\n",
        "arr = [12, 3, 4, 15]\n",
        " \n",
        "# calculating length of array\n",
        "n = len(arr)\n",
        " \n",
        "ans = _sum(arr)\n",
        " \n",
        "# display sum\n",
        "print('Sum of the array is ', ans)"
      ]
    },
    {
      "cell_type": "code",
      "source": [
        "def _sum(array):\n",
        "  sum=0\n",
        "  for i in array:\n",
        "     sum = sum+i\n",
        "\n",
        "  return(sum)\n",
        "array=[12, 3, 4, 15]\n",
        "ans=  _sum(array)\n",
        "print('sum of the array is', ans)\n",
        "\n",
        "len(array)"
      ],
      "metadata": {
        "colab": {
          "base_uri": "https://localhost:8080/"
        },
        "id": "3Mxq57vFrk1n",
        "outputId": "be22ad63-b1b1-46f2-e7ea-f92cfa37ccd5"
      },
      "execution_count": 26,
      "outputs": [
        {
          "output_type": "stream",
          "name": "stdout",
          "text": [
            "sum of the array is 34\n"
          ]
        },
        {
          "output_type": "execute_result",
          "data": {
            "text/plain": [
              "4"
            ]
          },
          "metadata": {},
          "execution_count": 26
        }
      ]
    },
    {
      "cell_type": "markdown",
      "source": [
        "Method 2:\n",
        "\n",
        " Using the built-in function sum(). Python provides an inbuilt function sum() which sums up the numbers in the list.\n",
        "\n",
        "Syntax: **sum** (iterable) \n",
        "\n",
        "iterable: iterable can be anything list, tuples or dictionaries, but most importantly it should be numbered."
      ],
      "metadata": {
        "id": "EyRjXUtPvw_k"
      }
    },
    {
      "cell_type": "code",
      "source": [
        "# Unsin Sum()\n",
        "# Python 3 code to find sum\n",
        "# of elements in given array\n",
        "# driver function\n",
        "arr = []\n",
        " \n",
        "# input values to list\n",
        "arr = [12, 3, 4, 15]\n",
        " \n",
        "# sum() is an inbuilt function in python that adds\n",
        "# all the elements in list,set and tuples and returns\n",
        "# the value\n",
        "ans = sum(arr)\n",
        " \n",
        "# display sum\n",
        "print('Sum of the array is ', ans)"
      ],
      "metadata": {
        "id": "tnb9Xsk-u1ho"
      },
      "execution_count": null,
      "outputs": []
    },
    {
      "cell_type": "code",
      "source": [
        "array=[12,3,4,15]\n",
        "ans=sum(array)\n",
        "print('sum of array is ',ans)\n",
        "# Just ans \n",
        "# display(ans)"
      ],
      "metadata": {
        "colab": {
          "base_uri": "https://localhost:8080/"
        },
        "id": "bajm8gd8u5wj",
        "outputId": "91aa1156-5d3f-42d0-fb0b-9482e9b84ab7"
      },
      "execution_count": 29,
      "outputs": [
        {
          "output_type": "stream",
          "name": "stdout",
          "text": [
            "sum of array is  34\n"
          ]
        }
      ]
    },
    {
      "cell_type": "markdown",
      "source": [
        "Method 3:\n",
        "\n",
        " Using the reduce method. Array.reduce() method is used to iterate over the array and get the summarized result from all elements of array.\n",
        "\n",
        "Syntax: \n",
        "reduce( function, Array );"
      ],
      "metadata": {
        "id": "rB9qyCq6v2IV"
      }
    },
    {
      "cell_type": "code",
      "source": [
        "from functools import reduce\n",
        "# Python 3 code to find sum\n",
        "# of elements in given array\n",
        "\n",
        "\n",
        "def _sum(arr):\n",
        "\n",
        "\t# iterate over array\n",
        "\t# using reduce and get\n",
        "\t# sum on accumulator\n",
        "\tsum = reduce(lambda a, b: a+b, arr)\n",
        "\n",
        "\treturn(sum)\n",
        "\n",
        "\n",
        "# driver function\n",
        "arr = []\n",
        "# input values to list\n",
        "arr = [12, 3, 4, 15]\n",
        "\n",
        "# calculating length of array\n",
        "n = len(arr)\n",
        "\n",
        "ans = _sum(arr)\n",
        "\n",
        "# display sum\n",
        "print('Sum of the array is ', ans)\n"
      ],
      "metadata": {
        "id": "FBISxgwFwU5r"
      },
      "execution_count": null,
      "outputs": []
    },
    {
      "cell_type": "code",
      "source": [
        "from functools import reduce\n",
        "def _sum(array):\n",
        "  sum=reduce(lambda a,b: a+b, array)\n",
        "\n",
        "  return(sum)\n",
        "ans = _sum(arr)\n",
        "array=[12,3,4,15]\n",
        "ans"
      ],
      "metadata": {
        "colab": {
          "base_uri": "https://localhost:8080/"
        },
        "id": "YBYn0WxXwcb0",
        "outputId": "a68b5fc8-247a-4a47-ba2d-24289c27bc88"
      },
      "execution_count": 38,
      "outputs": [
        {
          "output_type": "execute_result",
          "data": {
            "text/plain": [
              "34"
            ]
          },
          "metadata": {},
          "execution_count": 38
        }
      ]
    },
    {
      "cell_type": "markdown",
      "source": [
        "\n",
        "\n",
        "---\n",
        "\n"
      ],
      "metadata": {
        "id": "6FYr2bNMF1vX"
      }
    },
    {
      "cell_type": "markdown",
      "source": [
        "# Python Program to find largest element in an array-\n",
        "\n",
        "\n",
        "\n"
      ],
      "metadata": {
        "id": "D6eHRIFqxq-n"
      }
    },
    {
      "cell_type": "code",
      "source": [
        "# Python3 program to find maximum\n",
        "# in arr[] of size n\n",
        "\n",
        "# python function to find maximum\n",
        "# in arr[] of size n\n",
        "\n",
        "\n",
        "def largest(arr, n):\n",
        "\n",
        "\t# Initialize maximum element\n",
        "\tmax = arr[0]\n",
        "\n",
        "\t# Traverse array elements from second\n",
        "\t# and compare every element with\n",
        "\t# current max\n",
        "\tfor i in range(1, n):\n",
        "\t\tif arr[i] > max:\n",
        "\t\t\tmax = arr[i]\n",
        "\treturn max\n",
        "\n",
        "\n",
        "# Driver Code\n",
        "arr = [10, 324, 45, 90, 9808]\n",
        "n = len(arr)\n",
        "Ans = largest(arr, n)\n",
        "print(\"Largest in given array \", Ans)\n"
      ],
      "metadata": {
        "colab": {
          "base_uri": "https://localhost:8080/"
        },
        "id": "q7cgK-Gj86_u",
        "outputId": "a8e6e658-f663-402d-d4c8-930bae9daeb9"
      },
      "execution_count": 39,
      "outputs": [
        {
          "output_type": "stream",
          "name": "stdout",
          "text": [
            "Largest in given array  9808\n"
          ]
        }
      ]
    },
    {
      "cell_type": "code",
      "source": [
        "def _largest(array, n):\n",
        "  max= array[0]\n",
        "  for i in range(1,n):\n",
        "    if array[i]>max:\n",
        "      max=aaray [i]\n",
        "  return max\n",
        "array=[10,20,40,60,1200]\n",
        "a=largest(array,n)\n",
        "print(a)\n"
      ],
      "metadata": {
        "colab": {
          "base_uri": "https://localhost:8080/"
        },
        "id": "1qoONzs09SPQ",
        "outputId": "f3017e80-e158-420d-ad51-5e53e7f06123"
      },
      "execution_count": 59,
      "outputs": [
        {
          "output_type": "stream",
          "name": "stdout",
          "text": [
            "1200\n"
          ]
        }
      ]
    },
    {
      "cell_type": "code",
      "source": [
        "# Method-2\n",
        "def largest(arr, n):\n",
        "    ans = max(arr)\n",
        "    return ans\n",
        "\n",
        "arr = [10, 324, 45, 90, 9808]\n",
        "n = len(arr)\n",
        "print (\"Largest in given array \", largest(arr, n))"
      ],
      "metadata": {
        "colab": {
          "base_uri": "https://localhost:8080/"
        },
        "id": "accphYtF-upO",
        "outputId": "786a558c-9caf-4b56-d22a-7db6b52f2f7e"
      },
      "execution_count": 60,
      "outputs": [
        {
          "output_type": "stream",
          "name": "stdout",
          "text": [
            "Largest in given array  9808\n"
          ]
        }
      ]
    },
    {
      "cell_type": "code",
      "source": [
        "#Method-3\n",
        "# in arr[] of size n\n",
        "\n",
        "def largest(arr, n):\n",
        "\n",
        "\t# Sort the array\n",
        "\tarr.sort()\n",
        "\n",
        "\t# The last element of the\n",
        "\t# array is the largest element\n",
        "\treturn arr[n-1]\n",
        "\t# or return arr[-1]\n",
        "\n",
        "# Driver Code\n",
        "arr = [10, 324, 45, 90, 1002]\n",
        "n = len(arr)\n",
        "Ans = largest(arr, n)\n",
        "print(\"Largest in given array \", Ans)\n",
        "\n"
      ],
      "metadata": {
        "id": "caFdO0UzFhC0"
      },
      "execution_count": null,
      "outputs": []
    },
    {
      "cell_type": "markdown",
      "source": [
        "\n",
        "\n",
        "---\n",
        "\n"
      ],
      "metadata": {
        "id": "8xHkBRG_F9Ge"
      }
    },
    {
      "cell_type": "markdown",
      "source": [
        "# Python Program for array rotation-\n",
        "\n",
        "Write a function rotate(ar[], d, n) that rotates arr[] of size n by d elements. \n",
        "\n",
        "![image.png](data:image/png;base64,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)\n",
        "\n",
        "Rotation of the above array by 2 will make array\n",
        "\n",
        "\n",
        "![image.png](data:image/png;base64,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)"
      ],
      "metadata": {
        "id": "iE1i_gKCF_G7"
      }
    },
    {
      "cell_type": "markdown",
      "source": [
        "\n",
        "METHOD 1 (Using temp array):\n",
        "\n",
        "Input arr[] = [1, 2, 3, 4, 5, 6, 7], d = 2, n =7\n",
        "\n",
        "1) Store d elements in a temp array\n",
        "\n",
        "   temp[] = [1, 2]\n",
        "\n",
        "2) Shift rest of the arr[]\n",
        "\n",
        "   arr[] = [3, 4, 5, 6, 7, 6, 7]\n",
        "\n",
        "3) Store back the d elements\n",
        "\n",
        "   arr[] = [3, 4, 5, 6, 7, 1, 2]\n",
        "   "
      ],
      "metadata": {
        "id": "Uqd32QWzGi8G"
      }
    },
    {
      "cell_type": "code",
      "source": [
        "# function to rotate array by d elements using temp array\n",
        "def rotateArray(arr, n, d):\n",
        "\ttemp = []\n",
        "\ti = 0\n",
        "\twhile (i < d):\n",
        "\t\ttemp.append(arr[i])\n",
        "\t\ti = i + 1\n",
        "\ti = 0\n",
        "\twhile (d < n):\n",
        "\t\tarr[i] = arr[d]\n",
        "\t\ti = i + 1\n",
        "\t\td = d + 1\n",
        "\tarr[:] = arr[: i] + temp\n",
        "\treturn arr\n",
        "\n",
        "\n",
        "# Driver function to test above function\n",
        "arr = [1, 2, 3, 4, 5, 6, 7]\n",
        "print(\"Array after left rotation is: \", end=' ')\n",
        "print(rotateArray(arr, len(arr), 2))\n"
      ],
      "metadata": {
        "colab": {
          "base_uri": "https://localhost:8080/"
        },
        "id": "XF5aW155GawL",
        "outputId": "b3913b9d-c34d-4cb5-b03f-fa2635d0bf31"
      },
      "execution_count": 61,
      "outputs": [
        {
          "output_type": "stream",
          "name": "stdout",
          "text": [
            "Array after left rotation is:  [3, 4, 5, 6, 7, 1, 2]\n"
          ]
        }
      ]
    },
    {
      "cell_type": "code",
      "source": [
        "# Python program using the List\n",
        "# slicing approach to rotate the array\n",
        "def rotateList(arr,d,n):\n",
        "arr[:]=arr[d:n]+arr[0:d]\n",
        "return arr\n",
        "# Driver function to test above function\n",
        "arr = [1, 2, 3, 4, 5, 6]\n",
        "print(arr)\n",
        "print(\"Rotated list is\")\n",
        "print(rotateList(arr,2,len(arr)))\n",
        "\n",
        "# this code is contributed by virusbuddah\n"
      ],
      "metadata": {
        "colab": {
          "base_uri": "https://localhost:8080/",
          "height": 135
        },
        "id": "4Br0m2bXHGlR",
        "outputId": "cb16ddd8-36c3-4b63-8cf6-dbb97bc61778"
      },
      "execution_count": 62,
      "outputs": [
        {
          "output_type": "error",
          "ename": "IndentationError",
          "evalue": "ignored",
          "traceback": [
            "\u001b[0;36m  File \u001b[0;32m\"<ipython-input-62-156f9df38759>\"\u001b[0;36m, line \u001b[0;32m4\u001b[0m\n\u001b[0;31m    arr[:]=arr[d:n]+arr[0:d]\u001b[0m\n\u001b[0m    ^\u001b[0m\n\u001b[0;31mIndentationError\u001b[0m\u001b[0;31m:\u001b[0m expected an indented block\n"
          ]
        }
      ]
    },
    {
      "cell_type": "markdown",
      "source": [
        "\n",
        "\n",
        "---\n",
        "\n"
      ],
      "metadata": {
        "id": "-R7ewNAxHMd8"
      }
    },
    {
      "cell_type": "markdown",
      "source": [
        "# Python Program for Reversal algorithm for array rotation-\n",
        "\n",
        "Write a function rotate(arr[], d, n) that rotates arr[] of size n by d elements.\n",
        "\n",
        "Example :\n",
        "\n",
        "Input :  arr[] = [1, 2, 3, 4, 5, 6, 7]\n",
        "\n",
        "         d = 2\n",
        "         \n",
        "Output : arr[] = [3, 4, 5, 6, 7, 1, 2] "
      ],
      "metadata": {
        "id": "Zs-oMIG1HN4I"
      }
    },
    {
      "cell_type": "code",
      "source": [
        "# Python program for reversal algorithm of array rotation\n",
        "\n",
        "# Function to reverse arr[] from index start to end\n",
        "def rverseArray(arr, start, end):\n",
        "\twhile (start < end):\n",
        "\t\ttemp = arr[start]\n",
        "\t\tarr[start] = arr[end]\n",
        "\t\tarr[end] = temp\n",
        "\t\tstart += 1\n",
        "\t\tend = end-1\n",
        "\n",
        "# Function to left rotate arr[] of size n by d\n",
        "def leftRotate(arr, d):\n",
        "\tn = len(arr)\n",
        "\trverseArray(arr, 0, d-1)\n",
        "\trverseArray(arr, d, n-1)\n",
        "\trverseArray(arr, 0, n-1)\n",
        "\n",
        "# Function to print an array\n",
        "def printArray(arr):\n",
        "\tfor i in range(0, len(arr)):\n",
        "\t\tprint (arr[i])\n",
        "\n",
        "# Driver function to test above functions\n",
        "arr = [1, 2, 3, 4, 5, 6, 7]\n",
        "leftRotate(arr, 2) # Rotate array by 2\n",
        "printArray(arr)\n"
      ],
      "metadata": {
        "colab": {
          "base_uri": "https://localhost:8080/"
        },
        "id": "0kzczCtGHl1q",
        "outputId": "1e275312-201d-41e3-af09-c793038759ea"
      },
      "execution_count": 75,
      "outputs": [
        {
          "output_type": "stream",
          "name": "stdout",
          "text": [
            "3\n",
            "4\n",
            "5\n",
            "6\n",
            "7\n",
            "1\n",
            "2\n"
          ]
        }
      ]
    },
    {
      "cell_type": "markdown",
      "source": [
        "\n",
        "\n",
        "---\n",
        "\n"
      ],
      "metadata": {
        "id": "e4mpEWd0IZIY"
      }
    },
    {
      "cell_type": "markdown",
      "source": [
        "# Python Program to Split the array and add the first part to the end-\n",
        "\n",
        "There is a given an array and split it from a specified position, and move the first part of array add to the end.\n",
        "![image.png](data:image/png;base64,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)\n",
        "\n",
        "![image.png](data:image/png;base64,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)\n",
        "\n",
        "\n",
        "Input : arr[] = {12, 10, 5, 6, 52, 36}\n",
        "\n",
        "            k = 2\n",
        "\n",
        "Output : arr[] = {5, 6, 52, 36, 12, 10}\n",
        "\n",
        "Explanation : Split from index 2 and first \n",
        "\n",
        "part {12, 10} add to the end .\n",
        "\n",
        "Input : arr[] = {3, 1, 2}\n",
        "\n",
        "           k = 1\n",
        "\n",
        "Output : arr[] = {1, 2, 3}\n",
        "\n",
        "Explanation : Split from index 1 and first\n",
        "part add to the end."
      ],
      "metadata": {
        "id": "khfF4H2JIcJ6"
      }
    },
    {
      "cell_type": "code",
      "source": [
        "# Python program to split array and move first\n",
        "# part to end.\n",
        "\n",
        "def splitArr(arr, n, k):\n",
        "\tfor i in range(0, k):\n",
        "\t\tx = arr[0]\n",
        "\t\tfor j in range(0, n-1):\n",
        "\t\t\tarr[j] = arr[j + 1]\n",
        "\t\t\n",
        "\t\tarr[n-1] = x\n",
        "\t\t\n",
        "\n",
        "# main\n",
        "arr = [12, 10, 5, 6, 52, 36]\n",
        "n = len(arr)\n",
        "position = 2\n",
        "\n",
        "splitArr(arr, n, position)\n",
        "\n",
        "for i in range(0, n):\n",
        "\tprint(arr[i], end = ' ')\n"
      ],
      "metadata": {
        "colab": {
          "base_uri": "https://localhost:8080/"
        },
        "id": "SMoL1rwlKBTP",
        "outputId": "15192d87-8c40-4f33-e271-e8e59e1c53be"
      },
      "execution_count": 70,
      "outputs": [
        {
          "output_type": "stream",
          "name": "stdout",
          "text": [
            "5 6 52 36 12 10 "
          ]
        }
      ]
    },
    {
      "cell_type": "code",
      "source": [
        "# Python program to split array and move first\n",
        "# part to end.\n",
        "\n",
        "arr = [12, 10, 5, 6, 52, 36]\n",
        "n = len(arr)\n",
        "position = 2\n",
        "x = arr[:position]\n",
        "y = arr[position:]\n",
        "y.extend(x)\n",
        "for i in y:\n",
        "\tprint(i, end=\" \")\n"
      ],
      "metadata": {
        "colab": {
          "base_uri": "https://localhost:8080/"
        },
        "id": "Ez3LSfeJKkX6",
        "outputId": "6d98867b-dc4c-4275-e820-0bab6dcbe40f"
      },
      "execution_count": 76,
      "outputs": [
        {
          "output_type": "stream",
          "name": "stdout",
          "text": [
            "5 6 52 36 12 10 "
          ]
        }
      ]
    },
    {
      "cell_type": "code",
      "source": [
        "array =[10,20,30,40,50,90]\n",
        "position=3\n",
        "x=array[:position]\n",
        "y=array[position:]\n",
        "y.extend(x)\n",
        "for i in y:\n",
        "  print(i, end=' ' )\n"
      ],
      "metadata": {
        "colab": {
          "base_uri": "https://localhost:8080/"
        },
        "id": "8BSIeICHKp7T",
        "outputId": "61309ce3-5c6e-4678-f9b1-95a339020def"
      },
      "execution_count": 77,
      "outputs": [
        {
          "output_type": "stream",
          "name": "stdout",
          "text": [
            "40 50 90 10 20 30 "
          ]
        }
      ]
    },
    {
      "cell_type": "code",
      "source": [
        "# Python program to split array and move first\n",
        "# part to end.\n",
        "\n",
        "\n",
        "def splitArr(a, n, k):\n",
        "\tb = a[:k]\n",
        "\treturn (a[k::]+b[::])\n",
        "\n",
        "\n",
        "# main\n",
        "arr = [12, 10, 5, 6, 52, 36]\n",
        "n = len(arr)\n",
        "position = 2\n",
        "arr = splitArr(arr, n, position)\n",
        "for i in range(0, n):\n",
        "\tprint(arr[i], end=' ')\n"
      ],
      "metadata": {
        "colab": {
          "base_uri": "https://localhost:8080/"
        },
        "id": "Uiue0fxMLu9e",
        "outputId": "37420489-5f70-442a-b4f4-25332632aad8"
      },
      "execution_count": 78,
      "outputs": [
        {
          "output_type": "stream",
          "name": "stdout",
          "text": [
            "5 6 52 36 12 10 "
          ]
        }
      ]
    },
    {
      "cell_type": "markdown",
      "source": [
        "\n",
        "\n",
        "---\n",
        "\n"
      ],
      "metadata": {
        "id": "XIgH-OtTMGkk"
      }
    },
    {
      "cell_type": "markdown",
      "source": [
        "# Python Program for Find remainder of array multiplication divided by n-\n",
        "\n",
        "Given multiple numbers and a number n, the task is to print the remainder after multiplying all the numbers divided by n.\n",
        "Examples: \n",
        "\n",
        "Input : arr[] = {100, 10, 5, 25, 35, 14}, n = 11\n",
        "\n",
        "Output : 9\n",
        "\n",
        "Explanation: 100 x 10 x 5 x 25 x 35 x 14 = 61250000 % 11 = 9\n",
        "\n",
        "Naive approach:\n",
        "\n",
        " First multiple all the numbers then take % by n to find the remainder, \n",
        " \n",
        " But in this approach,\n",
        " \n",
        "  if the number is a maximum of 2^64 then it gives the wrong answer.\n",
        "\n",
        "An approach that avoids overflow:\n",
        "\n",
        " First take a remainder or individual number like arr[i] % n. \n",
        " \n",
        " Then multiply the remainder with the current result. After multiplication, \n",
        " \n",
        " again take the remainder to avoid overflow.\n",
        " \n",
        "  This works because of the distributive properties of modular arithmetic.\n",
        "  \n",
        "   ( a * b) % c = ( ( a % c ) * ( b % c ) ) % c \n"
      ],
      "metadata": {
        "id": "fvqIHpM2MHxm"
      }
    },
    {
      "cell_type": "code",
      "source": [
        "# to use reduce function import reduce from functools\n",
        "from functools import reduce\n",
        "\n",
        "\n",
        "def find_remainder(arr, n):\n",
        "\tsum_1 = reduce(lambda x, y: x*y, arr)\n",
        "\tremainder = sum_1 % n\n",
        "\tprint(remainder)\n",
        "\n",
        "\n",
        "arr = [100, 10, 5, 25, 35, 14]\n",
        "n = 11\n",
        "find_remainder(arr, n)\n"
      ],
      "metadata": {
        "colab": {
          "base_uri": "https://localhost:8080/"
        },
        "id": "q5yO0kOtMkPU",
        "outputId": "6f6335a4-14f5-4e88-8179-bb88e23c8071"
      },
      "execution_count": 79,
      "outputs": [
        {
          "output_type": "stream",
          "name": "stdout",
          "text": [
            "9\n"
          ]
        }
      ]
    },
    {
      "cell_type": "markdown",
      "source": [
        "\n",
        "\n",
        "---\n",
        "\n"
      ],
      "metadata": {
        "id": "OdVcMLzbMuAZ"
      }
    },
    {
      "cell_type": "markdown",
      "source": [
        "# Python Program to check if given array is Monotonic-\n",
        "\n",
        "Given an array A containing n integers. The task is to check whether the array is Monotonic or not. An array is monotonic if it is either monotone increasing or monotone decreasing. An array A is monotone increasing \n",
        "\n",
        "if for all i <= j, A[i] <= A[j]. \n",
        "\n",
        "An array A is monotone decreasing if for all i <= j, A[i] >= A[j]. \n",
        "\n",
        "Return Type: Boolean value, “True” if the given array A is monotonic else return “False” (without quotes). \n",
        "\n",
        "Examples: Input : 6 5 4 4\n",
        "\n",
        "Output : true\n",
        "\n",
        "Input : 5 15 20 10\n",
        "\n",
        "Output : false\n",
        "\n",
        "\n",
        "Approach : Using extend() and sort()\n",
        "\n",
        "First copy the given array into two different arrays using extend()\n",
        "\n",
        "Sort the first array in ascending order using sort()\n",
        "\n",
        "Sort the second array in descending order using sort(reverse=True)\n",
        "\n",
        "If the given array is equal to any of the two arrays then the array is monotonic"
      ],
      "metadata": {
        "id": "cCbYx4ZjMvLn"
      }
    },
    {
      "cell_type": "code",
      "source": [
        "# Check if given array is Monotonic\n",
        "def isMonotonic(A):\n",
        "\tx, y = [], []\n",
        "\tx.extend(A)\n",
        "\ty.extend(A)\n",
        "\tx.sort()\n",
        "\ty.sort(reverse=True)\n",
        "\tif(x == A or y == A):\n",
        "\t\treturn True\n",
        "\treturn False\n",
        "\n",
        "\n",
        "# Driver program\n",
        "A = [6, 5, 4, 4]\n",
        "\n",
        "# Print required result\n",
        "print(isMonotonic(A))\n"
      ],
      "metadata": {
        "colab": {
          "base_uri": "https://localhost:8080/"
        },
        "id": "PqefoeR4NLjf",
        "outputId": "54646eae-9a4a-458a-fd7e-c35d09f16596"
      },
      "execution_count": 80,
      "outputs": [
        {
          "output_type": "stream",
          "name": "stdout",
          "text": [
            "True\n"
          ]
        }
      ]
    },
    {
      "cell_type": "code",
      "source": [
        "A=[6,5,7,8]\n",
        "def monotonic(A):\n",
        "  x,y=[],[]\n",
        "  x.extend(A)\n",
        "  y.extend(A)\n",
        "  x.sort()\n",
        "  y.sort(reverse=True)\n",
        "  if (x==A or y==A):\n",
        "    return True\n",
        "  return False\n",
        "print(monotonic(A))"
      ],
      "metadata": {
        "colab": {
          "base_uri": "https://localhost:8080/"
        },
        "id": "SBow3UScNPqa",
        "outputId": "af6e177b-d1fb-4a0c-d5f2-c716968bb778"
      },
      "execution_count": 84,
      "outputs": [
        {
          "output_type": "stream",
          "name": "stdout",
          "text": [
            "False\n"
          ]
        }
      ]
    },
    {
      "cell_type": "markdown",
      "source": [
        "An array is monotonic if and only if it is monotone increasing, or monotone decreasing. Since p <= q and q <= r implies p <= r. So we only need to check adjacent elements to determine if the array is monotone increasing (or decreasing), respectively. We can check each of these properties in one pass.\n",
        "\n",
        "To check whether an array A is monotone increasing, we’ll check A[i] <= A[i+1] for all i indexing from 0 to len(A)-2. Similarly we can check for monotone decreasing where A[i] >= A[i+1] for all i indexing from 0 to len(A)-2. \n",
        "\n",
        "Note: Array with single element can be considered to be both monotonic increasing or decreasing, hence returns “True“. \n",
        "\n",
        "Below is the implementation of the above approach: "
      ],
      "metadata": {
        "id": "JxHjDM7rObHH"
      }
    },
    {
      "cell_type": "code",
      "source": [
        "# Python Program to check if given array is Monotonic\n",
        "\n",
        "# Check if given array is Monotonic\n",
        "\n",
        "\n",
        "def Monotonic(A):\n",
        "\n",
        "\treturn (all(A[i] <= A[i + 1]\n",
        "             for i in range(len(A) - 1)) or\n",
        "\t\t\tall(A[i] >= A[i + 1]\n",
        "       for i in range(len(A) - 1)))\n",
        "\n",
        "\n",
        "# Driver program\n",
        "A = [6, 5, 4, 4]\n",
        "\n",
        "# Print required result\n",
        "print(Monotonic(A))\n"
      ],
      "metadata": {
        "colab": {
          "base_uri": "https://localhost:8080/"
        },
        "id": "eNM7Lg8BOikS",
        "outputId": "4883a220-74e7-4df2-da6f-671e06741f77"
      },
      "execution_count": 86,
      "outputs": [
        {
          "output_type": "stream",
          "name": "stdout",
          "text": [
            "True\n"
          ]
        }
      ]
    }
  ]
}